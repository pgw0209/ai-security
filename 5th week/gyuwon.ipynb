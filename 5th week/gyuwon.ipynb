{
  "nbformat": 4,
  "nbformat_minor": 0,
  "metadata": {
    "colab": {
      "name": "gyuwon1002.ipynb의 사본",
      "provenance": [],
      "collapsed_sections": [],
      "include_colab_link": true
    },
    "kernelspec": {
      "name": "python3",
      "display_name": "Python 3"
    }
  },
  "cells": [
    {
      "cell_type": "markdown",
      "metadata": {
        "id": "view-in-github",
        "colab_type": "text"
      },
      "source": [
        "<a href=\"https://colab.research.google.com/github/pgw0209/ai-security/blob/master/5th%20week/gyuwon.ipynb\" target=\"_parent\"><img src=\"https://colab.research.google.com/assets/colab-badge.svg\" alt=\"Open In Colab\"/></a>"
      ]
    },
    {
      "cell_type": "code",
      "metadata": {
        "id": "bM4e-QXAem8s",
        "colab_type": "code",
        "outputId": "74c4b919-35b4-4314-9fdf-263b19b492c2",
        "colab": {
          "base_uri": "https://localhost:8080/",
          "height": 52
        }
      },
      "source": [
        "a = 100\n",
        "print(a)\n",
        "\n",
        "a = 10.54\n",
        "print(a)"
      ],
      "execution_count": 0,
      "outputs": [
        {
          "output_type": "stream",
          "text": [
            "100\n",
            "10.54\n"
          ],
          "name": "stdout"
        }
      ]
    },
    {
      "cell_type": "code",
      "metadata": {
        "id": "F37EKQScfDNR",
        "colab_type": "code",
        "outputId": "e9c53f84-4709-4565-f5fc-50f99e10aad2",
        "colab": {
          "base_uri": "https://localhost:8080/",
          "height": 52
        }
      },
      "source": [
        "b = \"this is string type\"\n",
        "print(b)\n",
        "\n",
        "b = \"a\"\n",
        "print(b)"
      ],
      "execution_count": 0,
      "outputs": [
        {
          "output_type": "stream",
          "text": [
            "this is string type\n",
            "a\n"
          ],
          "name": "stdout"
        }
      ]
    },
    {
      "cell_type": "code",
      "metadata": {
        "id": "QczqcwRDfPBG",
        "colab_type": "code",
        "outputId": "a2d5e673-b6dd-44b9-d27d-8b99da4dc0d7",
        "colab": {
          "base_uri": "https://localhost:8080/",
          "height": 34
        }
      },
      "source": [
        "list_arry=[1,4,6,\"abc\", \"ddg\"]\n",
        "print(list_arry)"
      ],
      "execution_count": 0,
      "outputs": [
        {
          "output_type": "stream",
          "text": [
            "[1, 4, 6, 'abc', 'ddg']\n"
          ],
          "name": "stdout"
        }
      ]
    },
    {
      "cell_type": "code",
      "metadata": {
        "id": "91vK530ofpqI",
        "colab_type": "code",
        "outputId": "49720336-e884-40da-ad12-5be451caa50d",
        "colab": {
          "base_uri": "https://localhost:8080/",
          "height": 34
        }
      },
      "source": [
        "list_arry_2=[5,2,list_arry]\n",
        "print(list_arry_2)"
      ],
      "execution_count": 0,
      "outputs": [
        {
          "output_type": "stream",
          "text": [
            "[5, 2, [1, 4, 6, 'abc', 'ddg']]\n"
          ],
          "name": "stdout"
        }
      ]
    },
    {
      "cell_type": "code",
      "metadata": {
        "id": "JDpfvNnof3Tw",
        "colab_type": "code",
        "outputId": "20e0c201-e0ed-4bc8-de16-482a7420927d",
        "colab": {
          "base_uri": "https://localhost:8080/",
          "height": 34
        }
      },
      "source": [
        "tuple_arry = (3,5,2,\"add\")\n",
        "print(tuple_arry)"
      ],
      "execution_count": 0,
      "outputs": [
        {
          "output_type": "stream",
          "text": [
            "(3, 5, 2, 'add')\n"
          ],
          "name": "stdout"
        }
      ]
    },
    {
      "cell_type": "code",
      "metadata": {
        "id": "du0v066qgOey",
        "colab_type": "code",
        "outputId": "0922468f-0195-40ef-f6d2-d1de9dc1264f",
        "colab": {
          "base_uri": "https://localhost:8080/",
          "height": 169
        }
      },
      "source": [
        "del tuple_arry[0]"
      ],
      "execution_count": 0,
      "outputs": [
        {
          "output_type": "error",
          "ename": "TypeError",
          "evalue": "ignored",
          "traceback": [
            "\u001b[0;31m---------------------------------------------------------------------------\u001b[0m",
            "\u001b[0;31mTypeError\u001b[0m                                 Traceback (most recent call last)",
            "\u001b[0;32m<ipython-input-9-400baae9fd20>\u001b[0m in \u001b[0;36m<module>\u001b[0;34m()\u001b[0m\n\u001b[0;32m----> 1\u001b[0;31m \u001b[0;32mdel\u001b[0m \u001b[0mtuple_arry\u001b[0m\u001b[0;34m[\u001b[0m\u001b[0;36m0\u001b[0m\u001b[0;34m]\u001b[0m\u001b[0;34m\u001b[0m\u001b[0;34m\u001b[0m\u001b[0m\n\u001b[0m",
            "\u001b[0;31mTypeError\u001b[0m: 'tuple' object doesn't support item deletion"
          ]
        }
      ]
    },
    {
      "cell_type": "code",
      "metadata": {
        "id": "u5gFzY22gT0W",
        "colab_type": "code",
        "outputId": "f24da3f3-f484-41e2-a49e-3709afc2317c",
        "colab": {
          "base_uri": "https://localhost:8080/",
          "height": 34
        }
      },
      "source": [
        "dic_arry={1:\"first\", 2:\"second\", \"third\":3}\n",
        "print(dic_arry)"
      ],
      "execution_count": 0,
      "outputs": [
        {
          "output_type": "stream",
          "text": [
            "{1: 'first', 2: 'second', 'third': 3}\n"
          ],
          "name": "stdout"
        }
      ]
    },
    {
      "cell_type": "code",
      "metadata": {
        "id": "4VQtlR9mglRf",
        "colab_type": "code",
        "outputId": "b2f6f49b-e22b-4c7a-a816-a22757be5410",
        "colab": {
          "base_uri": "https://localhost:8080/",
          "height": 169
        }
      },
      "source": [
        "print(dic_arr[3])"
      ],
      "execution_count": 0,
      "outputs": [
        {
          "output_type": "error",
          "ename": "NameError",
          "evalue": "ignored",
          "traceback": [
            "\u001b[0;31m---------------------------------------------------------------------------\u001b[0m",
            "\u001b[0;31mNameError\u001b[0m                                 Traceback (most recent call last)",
            "\u001b[0;32m<ipython-input-11-a1ab1955a682>\u001b[0m in \u001b[0;36m<module>\u001b[0;34m()\u001b[0m\n\u001b[0;32m----> 1\u001b[0;31m \u001b[0mprint\u001b[0m\u001b[0;34m(\u001b[0m\u001b[0mdic_arr\u001b[0m\u001b[0;34m[\u001b[0m\u001b[0;36m3\u001b[0m\u001b[0;34m]\u001b[0m\u001b[0;34m)\u001b[0m\u001b[0;34m\u001b[0m\u001b[0;34m\u001b[0m\u001b[0m\n\u001b[0m",
            "\u001b[0;31mNameError\u001b[0m: name 'dic_arr' is not defined"
          ]
        }
      ]
    },
    {
      "cell_type": "code",
      "metadata": {
        "id": "dl4lgtHego40",
        "colab_type": "code",
        "outputId": "1d6b36ec-61e1-487e-cc20-0152a16d5aaa",
        "colab": {
          "base_uri": "https://localhost:8080/",
          "height": 169
        }
      },
      "source": [
        "print(dic_arry[\"third\"])"
      ],
      "execution_count": 0,
      "outputs": [
        {
          "output_type": "error",
          "ename": "NameError",
          "evalue": "ignored",
          "traceback": [
            "\u001b[0;31m---------------------------------------------------------------------------\u001b[0m",
            "\u001b[0;31mNameError\u001b[0m                                 Traceback (most recent call last)",
            "\u001b[0;32m<ipython-input-12-611791573d80>\u001b[0m in \u001b[0;36m<module>\u001b[0;34m()\u001b[0m\n\u001b[0;32m----> 1\u001b[0;31m \u001b[0mprint\u001b[0m\u001b[0;34m(\u001b[0m\u001b[0mdic_arry\u001b[0m\u001b[0;34m[\u001b[0m\u001b[0mthird\u001b[0m\u001b[0;34m]\u001b[0m\u001b[0;34m)\u001b[0m\u001b[0;34m\u001b[0m\u001b[0;34m\u001b[0m\u001b[0m\n\u001b[0m",
            "\u001b[0;31mNameError\u001b[0m: name 'third' is not defined"
          ]
        }
      ]
    },
    {
      "cell_type": "code",
      "metadata": {
        "id": "GQgAnwaIguZO",
        "colab_type": "code",
        "outputId": "8bbee5e0-1d32-47ee-858f-919e9da64ae8",
        "colab": {
          "base_uri": "https://localhost:8080/",
          "height": 34
        }
      },
      "source": [
        "set_arry = set(\"heelo\")\n",
        "print(set_arry)"
      ],
      "execution_count": 0,
      "outputs": [
        {
          "output_type": "stream",
          "text": [
            "{'e', 'l', 'o', 'h'}\n"
          ],
          "name": "stdout"
        }
      ]
    },
    {
      "cell_type": "code",
      "metadata": {
        "id": "vdeB6wirg2iW",
        "colab_type": "code",
        "outputId": "2ea9c10b-b636-4261-bb13-87aa5ff8e4de",
        "colab": {
          "base_uri": "https://localhost:8080/",
          "height": 34
        }
      },
      "source": [
        "c = True\n",
        "type(c)"
      ],
      "execution_count": 0,
      "outputs": [
        {
          "output_type": "execute_result",
          "data": {
            "text/plain": [
              "bool"
            ]
          },
          "metadata": {
            "tags": []
          },
          "execution_count": 14
        }
      ]
    },
    {
      "cell_type": "code",
      "metadata": {
        "id": "4z4hnjc9hDEw",
        "colab_type": "code",
        "outputId": "8b84c000-2456-4662-c05d-82a05a8a16f4",
        "colab": {
          "base_uri": "https://localhost:8080/",
          "height": 34
        }
      },
      "source": [
        "sum = 0\n",
        "for i in range(10):\n",
        "  sum += i\n",
        "print(sum)"
      ],
      "execution_count": 0,
      "outputs": [
        {
          "output_type": "stream",
          "text": [
            "45\n"
          ],
          "name": "stdout"
        }
      ]
    },
    {
      "cell_type": "code",
      "metadata": {
        "id": "Rl51O7kohO_R",
        "colab_type": "code",
        "outputId": "5e9655dd-3fa9-4344-f937-45a4fad6595a",
        "colab": {
          "base_uri": "https://localhost:8080/",
          "height": 34
        }
      },
      "source": [
        "sum = 0\n",
        "for i in range(1, 11):\n",
        "  sum += i\n",
        "print(sum)"
      ],
      "execution_count": 0,
      "outputs": [
        {
          "output_type": "stream",
          "text": [
            "55\n"
          ],
          "name": "stdout"
        }
      ]
    },
    {
      "cell_type": "code",
      "metadata": {
        "id": "aQchSDMmhVx3",
        "colab_type": "code",
        "outputId": "474c63fc-2f6b-457a-8243-70e4f91716de",
        "colab": {
          "base_uri": "https://localhost:8080/",
          "height": 210
        }
      },
      "source": [
        "treeHit = 0\n",
        "while treeHit < 10:\n",
        "  treeHit += 1\n",
        "  print(\"나무를 %d번 찍었습니다\" %treeHit)\n",
        "  if treeHit == 10:\n",
        "    print(\"나무가 넘어갑니다\")"
      ],
      "execution_count": 0,
      "outputs": [
        {
          "output_type": "stream",
          "text": [
            "나무를 1번 찍었습니다\n",
            "나무를 2번 찍었습니다\n",
            "나무를 3번 찍었습니다\n",
            "나무를 4번 찍었습니다\n",
            "나무를 5번 찍었습니다\n",
            "나무를 6번 찍었습니다\n",
            "나무를 7번 찍었습니다\n",
            "나무를 8번 찍었습니다\n",
            "나무를 9번 찍었습니다\n",
            "나무를 10번 찍었습니다\n",
            "나무가 넘어갑니다\n"
          ],
          "name": "stdout"
        }
      ]
    },
    {
      "cell_type": "code",
      "metadata": {
        "id": "h6U60Pi-hni6",
        "colab_type": "code",
        "outputId": "3f2aea0f-d3f3-4dd1-afda-9a53fcc3b534",
        "colab": {
          "base_uri": "https://localhost:8080/",
          "height": 70
        }
      },
      "source": [
        "for j in list_arry_2:\n",
        "  print(j)"
      ],
      "execution_count": 0,
      "outputs": [
        {
          "output_type": "stream",
          "text": [
            "5\n",
            "2\n",
            "[1, 4, 6, 'abc', 'ddg']\n"
          ],
          "name": "stdout"
        }
      ]
    },
    {
      "cell_type": "code",
      "metadata": {
        "id": "-Ck2JHNTh2ZP",
        "colab_type": "code",
        "outputId": "76a93a15-5a2b-4f73-8bda-ab9c1ba4bca9",
        "colab": {
          "base_uri": "https://localhost:8080/",
          "height": 70
        }
      },
      "source": [
        "money = 1000\n",
        "if money > 5000:\n",
        "  print(\"택시를 타고가자!\")\n",
        "elif money >1250:\n",
        "  print(\"대중교통을 이용하자!\")\n",
        "else:\n",
        "  print(\"걸어가라...\")\n",
        "  \n",
        "money = 2000\n",
        "if money > 5000:\n",
        "  print(\"택시를 타고가자!\")\n",
        "elif money >1250:\n",
        "  print(\"대중교통을 이용하자!\")\n",
        "else:\n",
        "  print(\"걸어가라...\")\n",
        "  \n",
        "money = 10000\n",
        "if money > 5000:\n",
        "  print(\"택시를 타고가자!\")\n",
        "elif money >1250:\n",
        "  print(\"대중교통을 이용하자!\")\n",
        "else:\n",
        "  print(\"걸어가라...\")"
      ],
      "execution_count": 0,
      "outputs": [
        {
          "output_type": "stream",
          "text": [
            "걸어가라...\n",
            "대중교통을 이용하자!\n",
            "택시를 타고가자!\n"
          ],
          "name": "stdout"
        }
      ]
    },
    {
      "cell_type": "code",
      "metadata": {
        "id": "ZA8xWV0Gimgg",
        "colab_type": "code",
        "outputId": "2fa77c93-7e92-450d-b899-547aa0814029",
        "colab": {
          "base_uri": "https://localhost:8080/",
          "height": 70
        }
      },
      "source": [
        "def HowToGo(money):\n",
        "  if money > 5000:\n",
        "    print(\"택시를 타고가자!\")\n",
        "  elif money >1250:\n",
        "    print(\"대중교통을 이용하자!\")\n",
        "  else:\n",
        "    print(\"걸어가라...\")\n",
        "\n",
        "HowToGo(1000) \n",
        "HowToGo(2500)\n",
        "HowToGo(10000)"
      ],
      "execution_count": 0,
      "outputs": [
        {
          "output_type": "stream",
          "text": [
            "걸어가라...\n",
            "대중교통을 이용하자!\n",
            "택시를 타고가자!\n"
          ],
          "name": "stdout"
        }
      ]
    },
    {
      "cell_type": "code",
      "metadata": {
        "id": "mZOl3LgzjIlD",
        "colab_type": "code",
        "outputId": "d329f0e6-9d8e-437d-90b8-c67dd406186c",
        "colab": {
          "base_uri": "https://localhost:8080/",
          "height": 52
        }
      },
      "source": [
        "class calculator:\n",
        "  def __init__(self):\n",
        "    self.result = 0\n",
        "    \n",
        "  def add(self, a, b):\n",
        "      self.result = a+b\n",
        "      return self.result\n",
        "    \n",
        "  def minus(self, a, b):\n",
        "      self.result = a-b\n",
        "      return self.result\n",
        "\n",
        "cal = calculator()\n",
        "  \n",
        "print(cal.add(4, 5))\n",
        "print(cal.minus(3, 9))"
      ],
      "execution_count": 0,
      "outputs": [
        {
          "output_type": "stream",
          "text": [
            "9\n",
            "-6\n"
          ],
          "name": "stdout"
        }
      ]
    },
    {
      "cell_type": "code",
      "metadata": {
        "id": "m2mhEEhzl_x-",
        "colab_type": "code",
        "colab": {}
      },
      "source": [
        "import torch"
      ],
      "execution_count": 0,
      "outputs": []
    },
    {
      "cell_type": "code",
      "metadata": {
        "id": "gbxLbeG5mCwN",
        "colab_type": "code",
        "outputId": "a6a6e47f-fcee-413e-e055-331134111bdd",
        "colab": {
          "base_uri": "https://localhost:8080/",
          "height": 105
        }
      },
      "source": [
        "x = torch.empty(5, 3)\n",
        "print(x)"
      ],
      "execution_count": 0,
      "outputs": [
        {
          "output_type": "stream",
          "text": [
            "tensor([[1.0754e-36, 0.0000e+00, 3.3631e-44],\n",
            "        [0.0000e+00,        nan, 0.0000e+00],\n",
            "        [1.1578e+27, 1.1362e+30, 7.1547e+22],\n",
            "        [4.5828e+30, 1.2121e+04, 7.1846e+22],\n",
            "        [9.2198e-39, 7.0374e+22, 0.0000e+00]])\n"
          ],
          "name": "stdout"
        }
      ]
    },
    {
      "cell_type": "code",
      "metadata": {
        "id": "KeCkiiClmJVT",
        "colab_type": "code",
        "outputId": "7f5c8c13-ff87-48ba-e77b-b4c43d843d7c",
        "colab": {
          "base_uri": "https://localhost:8080/",
          "height": 105
        }
      },
      "source": [
        "x = torch.rand(5,3)\n",
        "print(x)"
      ],
      "execution_count": 0,
      "outputs": [
        {
          "output_type": "stream",
          "text": [
            "tensor([[0.8718, 0.1084, 0.8864],\n",
            "        [0.1976, 0.9943, 0.6262],\n",
            "        [0.6891, 0.9897, 0.7087],\n",
            "        [0.2424, 0.8455, 0.6418],\n",
            "        [0.9242, 0.1146, 0.4074]])\n"
          ],
          "name": "stdout"
        }
      ]
    },
    {
      "cell_type": "code",
      "metadata": {
        "id": "OtPL5kKrmmuL",
        "colab_type": "code",
        "outputId": "55f3b95e-9a0e-4413-b74b-e3196b18f626",
        "colab": {
          "base_uri": "https://localhost:8080/",
          "height": 105
        }
      },
      "source": [
        "x = torch.zeros(5,3, dtype=torch.long)\n",
        "print(x)"
      ],
      "execution_count": 0,
      "outputs": [
        {
          "output_type": "stream",
          "text": [
            "tensor([[0, 0, 0],\n",
            "        [0, 0, 0],\n",
            "        [0, 0, 0],\n",
            "        [0, 0, 0],\n",
            "        [0, 0, 0]])\n"
          ],
          "name": "stdout"
        }
      ]
    },
    {
      "cell_type": "code",
      "metadata": {
        "id": "1chV3Cxtms96",
        "colab_type": "code",
        "outputId": "17fd7204-b7b6-4437-d31c-cd2fa18632b2",
        "colab": {
          "base_uri": "https://localhost:8080/",
          "height": 34
        }
      },
      "source": [
        "x = torch.tensor([5.5, 3])\n",
        "print(x)"
      ],
      "execution_count": 0,
      "outputs": [
        {
          "output_type": "stream",
          "text": [
            "tensor([5.5000, 3.0000])\n"
          ],
          "name": "stdout"
        }
      ]
    },
    {
      "cell_type": "code",
      "metadata": {
        "id": "1PNIJbQPm6kc",
        "colab_type": "code",
        "outputId": "a4881935-8633-4c50-993e-bd65fb7c6da5",
        "colab": {
          "base_uri": "https://localhost:8080/",
          "height": 175
        }
      },
      "source": [
        "x = torch.rand(3,4)\n",
        "y = torch.rand(3,4)\n",
        "z = torch.add(x,y)\n",
        "\n",
        "print(x,y,z, sep = \"\\n\")"
      ],
      "execution_count": 0,
      "outputs": [
        {
          "output_type": "stream",
          "text": [
            "tensor([[0.5710, 0.1499, 0.6748, 0.1028],\n",
            "        [0.8740, 0.9960, 0.9115, 0.5602],\n",
            "        [0.6158, 0.6295, 0.6566, 0.2063]])\n",
            "tensor([[0.1902, 0.5835, 0.0832, 0.3614],\n",
            "        [0.8737, 0.7457, 0.6959, 0.2170],\n",
            "        [0.1819, 0.5353, 0.5318, 0.4212]])\n",
            "tensor([[0.7611, 0.7335, 0.7580, 0.4642],\n",
            "        [1.7478, 1.7416, 1.6074, 0.7772],\n",
            "        [0.7977, 1.1648, 1.1884, 0.6275]])\n"
          ],
          "name": "stdout"
        }
      ]
    }
  ]
}